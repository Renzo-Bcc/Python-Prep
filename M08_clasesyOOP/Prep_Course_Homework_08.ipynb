{
 "cells": [
  {
   "attachments": {},
   "cell_type": "markdown",
   "metadata": {},
   "source": [
    "## Clases y Programación Orientada a Objetos"
   ]
  },
  {
   "attachments": {},
   "cell_type": "markdown",
   "metadata": {},
   "source": [
    "1) Crear la clase vehículo que contenga los atributos:<br>\n",
    "Color<br>\n",
    "Si es moto, auto, camioneta ó camión<br>\n",
    "Cilindrada del motor"
   ]
  },
  {
   "cell_type": "code",
   "execution_count": 1,
   "metadata": {},
   "outputs": [],
   "source": [
    "class Vehiculo:\n",
    "    def __init__(self, color, tipo, cilindro):\n",
    "        self.color = color\n",
    "        self.tipo = tipo\n",
    "        self.cilindro = cilindro"
   ]
  },
  {
   "attachments": {},
   "cell_type": "markdown",
   "metadata": {},
   "source": [
    "2) A la clase Vehiculo creada en el punto 1, agregar los siguientes métodos:<br>\n",
    "Acelerar<br>\n",
    "Frenar<br>\n",
    "Doblar<br>"
   ]
  },
  {
   "cell_type": "code",
   "execution_count": 2,
   "metadata": {},
   "outputs": [],
   "source": [
    "class Vehiculo:\n",
    "    def __init__(self, color, tipo, cilindro):\n",
    "        self.color = color\n",
    "        self.tipo = tipo\n",
    "        self.cilindro = cilindro\n",
    "        self.velocidad = 0\n",
    "        self.direccion = 0\n",
    "\n",
    "    def Acelerar(self, vl):\n",
    "        self.velocidad += vl\n",
    "\n",
    "    def Frenar(self, vl):\n",
    "        self.velocidad -= vl\n",
    "    \n",
    "    def Doblar(self, gr):\n",
    "        self.direccion += gr"
   ]
  },
  {
   "attachments": {},
   "cell_type": "markdown",
   "metadata": {},
   "source": [
    "3) Instanciar 3 objetos de la clase vehículo y ejecutar sus métodos, probar luego el resultado"
   ]
  },
  {
   "cell_type": "code",
   "execution_count": 3,
   "metadata": {},
   "outputs": [],
   "source": [
    "x = Vehiculo('Negro', 'Camioneta', 4)\n",
    "y = Vehiculo('Azul', 'Motocicleta', 6)\n",
    "z = Vehiculo('Rojo', 'Camion', 5)\n",
    "\n",
    "x.Acelerar(50)\n",
    "y.Acelerar(70)\n",
    "z.Acelerar(30)\n",
    "\n",
    "y.Doblar(35)\n",
    "\n",
    "z.Frenar(-30)"
   ]
  },
  {
   "attachments": {},
   "cell_type": "markdown",
   "metadata": {},
   "source": [
    "4) Agregar a la clase Vehiculo, un método que muestre su estado, es decir, a que velocidad se encuentra y su dirección. Y otro método que muestre color, tipo y cilindrada"
   ]
  },
  {
   "cell_type": "code",
   "execution_count": 4,
   "metadata": {},
   "outputs": [],
   "source": [
    "class Vehiculo:\n",
    "    def __init__(self, color, tipo, cilindro):\n",
    "        self.color = color\n",
    "        self.tipo = tipo\n",
    "        self.cilindro = cilindro\n",
    "        self.velocidad = 0\n",
    "        self.direccion = 0\n",
    "\n",
    "    def Acelerar(self, vl):\n",
    "        self.velocidad += vl\n",
    "\n",
    "    def Frenar(self, vl):\n",
    "        self.velocidad -= vl\n",
    "    \n",
    "    def Doblar(self, gr):\n",
    "        self.direccion += gr\n",
    "\n",
    "    def Estado(self):\n",
    "        print(f'Velocidad: {self.velocidad} km/s - Dirección: {self.direccion}')\n",
    "\n",
    "    def Detalle(self):\n",
    "        print(f'Soy un(a) {self.tipo} de color {self.color} y tengo {self.cilindro} litros por cilindro')"
   ]
  },
  {
   "cell_type": "code",
   "execution_count": 5,
   "metadata": {},
   "outputs": [
    {
     "name": "stdout",
     "output_type": "stream",
     "text": [
      "Soy un(a) auto de color rojo y tengo 2 litros por cilindro\n",
      "Velocidad: 0 km/s - Dirección: 0\n"
     ]
    }
   ],
   "source": [
    "x = Vehiculo('rojo', 'auto', 2)\n",
    "x.Detalle()\n",
    "x.Estado()\n",
    "x.Acelerar(30)"
   ]
  },
  {
   "attachments": {},
   "cell_type": "markdown",
   "metadata": {},
   "source": [
    "5) Crear una clase que permita utilizar las funciones creadas en la práctica del módulo 7<br>\n",
    "Verificar Primo<br>\n",
    "Valor modal<br>\n",
    "Conversión grados<br>\n",
    "Factorial<br>"
   ]
  },
  {
   "cell_type": "code",
   "execution_count": 6,
   "metadata": {},
   "outputs": [],
   "source": [
    "class UtilidadesNumericas:\n",
    "    \n",
    "    def __init__(self):\n",
    "        pass\n",
    "\n",
    "    def es_primo(self, numero):\n",
    "        # Verifica si un número es primo.\n",
    "        if numero < 2:\n",
    "            return False\n",
    "        for i in range(2, int(numero**0.5) + 1):\n",
    "            if numero % i == 0:\n",
    "                return False\n",
    "        return True\n",
    "\n",
    "    def valor_modal(self, lista):\n",
    "        # Devuelve el valor modal de una lista, es decir, el número que más se repite.\n",
    "        if not lista:\n",
    "            raise ValueError(\"La lista no puede estar vacía\")\n",
    "        frecuencias = {}\n",
    "        for numero in lista:\n",
    "            frecuencias[numero] = frecuencias.get(numero, 0) + 1\n",
    "        max_repeticiones = max(frecuencias.values())\n",
    "        for numero, repeticiones in frecuencias.items():\n",
    "            if repeticiones == max_repeticiones:\n",
    "                return numero, repeticiones\n",
    "\n",
    "    def convertir_temperatura(self, valor, origen, destino):\n",
    "        # Convierte una temperatura de una unidad a otra (Celsius, Fahrenheit, Kelvin).\n",
    "        if origen == 'C':\n",
    "            celsius = valor\n",
    "        elif origen == 'F':\n",
    "            celsius = (valor - 32) * 5/9\n",
    "        elif origen == 'K':\n",
    "            celsius = valor - 273.15\n",
    "        else:\n",
    "            raise ValueError(\"Unidad de origen no válida. Usa 'C', 'F' o 'K'.\")\n",
    "        \n",
    "        if destino == 'C':\n",
    "            return celsius\n",
    "        elif destino == 'F':\n",
    "            return (celsius * 9/5) + 32\n",
    "        elif destino == 'K':\n",
    "            return celsius + 273.15\n",
    "        else:\n",
    "            raise ValueError(\"Unidad de destino no válida. Usa 'C', 'F' o 'K'.\")\n",
    "\n",
    "    def factorial(self, n):\n",
    "        # Calcula el factorial de un número.\n",
    "        if not isinstance(n, int):\n",
    "            raise ValueError(\"El número debe ser un entero.\")\n",
    "        if n < 0:\n",
    "            raise ValueError(\"El número no puede ser negativo.\")\n",
    "        \n",
    "        resultado = 1\n",
    "        for i in range(2, n + 1):\n",
    "            resultado *= i\n",
    "        return resultado\n",
    "\n",
    "# Crear una instancia de la clase\n",
    "utilidades = UtilidadesNumericas()"
   ]
  },
  {
   "attachments": {},
   "cell_type": "markdown",
   "metadata": {},
   "source": [
    "6) Probar las funciones incorporadas en la clase del punto 5"
   ]
  },
  {
   "cell_type": "code",
   "execution_count": 7,
   "metadata": {},
   "outputs": [
    {
     "name": "stdout",
     "output_type": "stream",
     "text": [
      "¿Es primo 11? True\n",
      "El valor modal es 3 y se repite 3 veces.\n",
      "100°C son 212.0°F\n",
      "El factorial de 5 es 120\n"
     ]
    }
   ],
   "source": [
    "# Verificar si un número es primo\n",
    "print(\"¿Es primo 11?\", utilidades.es_primo(11))  # True\n",
    "\n",
    "# Valor modal de una lista\n",
    "numeros = [1, 2, 3, 4, 3, 2, 1, 3]\n",
    "modal, repeticiones = utilidades.valor_modal(numeros)\n",
    "print(f\"El valor modal es {modal} y se repite {repeticiones} veces.\")  # 3, 3 veces\n",
    "\n",
    "# Conversión de temperatura\n",
    "celsius_a_fahrenheit = utilidades.convertir_temperatura(100, 'C', 'F')\n",
    "print(f\"100°C son {celsius_a_fahrenheit}°F\")  # 212°F\n",
    "\n",
    "# Calcular el factorial de un número\n",
    "print(\"El factorial de 5 es\", utilidades.factorial(5))  # 120"
   ]
  },
  {
   "attachments": {},
   "cell_type": "markdown",
   "metadata": {},
   "source": [
    "7) Es necesario que la clase creada en el punto 5 contenga una lista, sobre la cual se apliquen las funciones incorporadas"
   ]
  },
  {
   "cell_type": "code",
   "execution_count": 8,
   "metadata": {},
   "outputs": [
    {
     "name": "stdout",
     "output_type": "stream",
     "text": [
      "Números primos en la lista: [5, 7, 7, 5, 5]\n",
      "El valor modal es 5 y se repite 3 veces.\n",
      "100°C son 212.0°F\n",
      "El factorial de 5 es 120\n"
     ]
    }
   ],
   "source": [
    "class UtilidadesNumericas:\n",
    "    \n",
    "    def __init__(self, lista_numeros):\n",
    "        # Inicializa la clase con una lista de números.\n",
    "        if not isinstance(lista_numeros, list):\n",
    "            raise ValueError(\"Debes proporcionar una lista de números.\")\n",
    "        self.lista = lista_numeros\n",
    "\n",
    "    def es_primo(self, numero):\n",
    "        # Verifica si un número es primo.\n",
    "        if numero < 2:\n",
    "            return False\n",
    "        for i in range(2, int(numero**0.5) + 1):\n",
    "            if numero % i == 0:\n",
    "                return False\n",
    "        return True\n",
    "\n",
    "    def obtener_primos(self):\n",
    "        # Devuelve una lista de los números primos en la lista.\n",
    "        return [numero for numero in self.lista if self.es_primo(numero)]\n",
    "\n",
    "    def valor_modal(self):\n",
    "        # Devuelve el valor modal de la lista (el número que más se repite).\n",
    "        if not self.lista:\n",
    "            raise ValueError(\"La lista no puede estar vacía.\")\n",
    "        frecuencias = {}\n",
    "        for numero in self.lista:\n",
    "            frecuencias[numero] = frecuencias.get(numero, 0) + 1\n",
    "        max_repeticiones = max(frecuencias.values())\n",
    "        for numero, repeticiones in frecuencias.items():\n",
    "            if repeticiones == max_repeticiones:\n",
    "                return numero, repeticiones\n",
    "\n",
    "    def convertir_temperatura(self, valor, origen, destino):\n",
    "        # Convierte una temperatura de una unidad a otra (Celsius, Fahrenheit, Kelvin).\n",
    "        if origen == 'C':\n",
    "            celsius = valor\n",
    "        elif origen == 'F':\n",
    "            celsius = (valor - 32) * 5/9\n",
    "        elif origen == 'K':\n",
    "            celsius = valor - 273.15\n",
    "        else:\n",
    "            raise ValueError(\"Unidad de origen no válida. Usa 'C', 'F' o 'K'.\")\n",
    "        \n",
    "        if destino == 'C':\n",
    "            return celsius\n",
    "        elif destino == 'F':\n",
    "            return (celsius * 9/5) + 32\n",
    "        elif destino == 'K':\n",
    "            return celsius + 273.15\n",
    "        else:\n",
    "            raise ValueError(\"Unidad de destino no válida. Usa 'C', 'F' o 'K'.\")\n",
    "\n",
    "    def factorial(self, n):\n",
    "        # Calcula el factorial de un número.\"\"\"\n",
    "        if not isinstance(n, int):\n",
    "            raise ValueError(\"El número debe ser un entero.\")\n",
    "        if n < 0:\n",
    "            raise ValueError(\"El número no puede ser negativo.\")\n",
    "        \n",
    "        resultado = 1\n",
    "        for i in range(2, n + 1):\n",
    "            resultado *= i\n",
    "        return resultado\n",
    "\n",
    "\n",
    "# Crear una instancia de la clase con una lista de números\n",
    "utilidades = UtilidadesNumericas([4, 5, 6, 7, 8, 9, 10, 7, 5, 5])\n",
    "\n",
    "# Obtener los números primos de la lista\n",
    "print(\"Números primos en la lista:\", utilidades.obtener_primos())  # [5, 7, 7, 5, 5]\n",
    "\n",
    "# Encontrar el valor modal de la lista\n",
    "modal, repeticiones = utilidades.valor_modal()\n",
    "print(f\"El valor modal es {modal} y se repite {repeticiones} veces.\")  # 5, se repite 4 veces\n",
    "\n",
    "# Conversión de temperatura (esta función no depende de la lista)\n",
    "celsius_a_fahrenheit = utilidades.convertir_temperatura(100, 'C', 'F')\n",
    "print(f\"100°C son {celsius_a_fahrenheit}°F\")  # 212°F\n",
    "\n",
    "# Calcular el factorial de un número (tampoco depende de la lista)\n",
    "print(\"El factorial de 5 es\", utilidades.factorial(5))  # 120"
   ]
  },
  {
   "attachments": {},
   "cell_type": "markdown",
   "metadata": {},
   "source": [
    "8) Crear un archivo .py aparte y ubicar allí la clase generada en el punto anterior. Luego realizar la importación del módulo y probar alguna de sus funciones"
   ]
  },
  {
   "cell_type": "code",
   "execution_count": 9,
   "metadata": {},
   "outputs": [
    {
     "name": "stdout",
     "output_type": "stream",
     "text": [
      "Números primos en la lista: [5, 7, 7, 5, 5]\n",
      "El valor modal es 5 y se repite 3 veces.\n",
      "100°C son 212.0°F\n",
      "El factorial de 10 es 3628800\n"
     ]
    }
   ],
   "source": [
    "from utilidades import utilidades\n",
    "\n",
    "uutilidades = UtilidadesNumericas([1,1,2,5,8,8,9,11,15,16,16,16,18,20])\n",
    "\n",
    "primos = utilidades.obtener_primos()\n",
    "print(\"Números primos en la lista:\", primos)\n",
    "\n",
    "modal, repeticiones = utilidades.valor_modal()\n",
    "print(f\"El valor modal es {modal} y se repite {repeticiones} veces.\")\n",
    "\n",
    "resultado = utilidades.convertir_temperatura(100, 'C', 'F')\n",
    "print(f\"100°C son {resultado}°F\")\n",
    "\n",
    "factorial = utilidades.factorial(10)\n",
    "print(f\"El factorial de 10 es {factorial}\")"
   ]
  }
 ],
 "metadata": {
  "interpreter": {
   "hash": "c85384e4cb51c8b72350f3a8712cc8351fdc3955e32a27f9b60c6242ab125f01"
  },
  "kernelspec": {
   "display_name": "Python 3 (ipykernel)",
   "language": "python",
   "name": "python3"
  },
  "language_info": {
   "codemirror_mode": {
    "name": "ipython",
    "version": 3
   },
   "file_extension": ".py",
   "mimetype": "text/x-python",
   "name": "python",
   "nbconvert_exporter": "python",
   "pygments_lexer": "ipython3",
   "version": "3.12.5"
  }
 },
 "nbformat": 4,
 "nbformat_minor": 4
}
