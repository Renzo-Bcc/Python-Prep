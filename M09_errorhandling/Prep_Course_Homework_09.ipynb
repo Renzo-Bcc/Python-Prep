{
 "cells": [
  {
   "attachments": {},
   "cell_type": "markdown",
   "metadata": {},
   "source": [
    "## Manejo de errores"
   ]
  },
  {
   "attachments": {},
   "cell_type": "markdown",
   "metadata": {},
   "source": [
    "1) Con la clase creada en el módulo 7, tener en cuenta diferentes casos en que el código pudiera arrojar error. Por ejemplo, en la creación del objeto recibimos una lista de números enteros pero ¿qué pasa si se envía otro tipo de dato?"
   ]
  },
  {
   "cell_type": "code",
   "execution_count": 5,
   "metadata": {},
   "outputs": [],
   "source": [
    "import sys\n",
    "sys.path.append('c:/Users/Renzo Barreto/Onedrive/Escritorio/Python_Prep/M09_errorhandling/utilidades.py')"
   ]
  },
  {
   "cell_type": "code",
   "execution_count": 2,
   "metadata": {},
   "outputs": [
    {
     "name": "stdout",
     "output_type": "stream",
     "text": [
      "Instancia creada correctamente.\n",
      "Error: Todos los elementos de la lista deben ser números enteros.\n"
     ]
    }
   ],
   "source": [
    "from utilidades import utilidades\n",
    "# Probar con una lista válida\n",
    "try:\n",
    "    u1 = utilidades([4, 5, 6, 7])\n",
    "    print(\"Instancia creada correctamente.\")\n",
    "except ValueError as e:\n",
    "    print(e)\n",
    "\n",
    "# Probar con una lista no válida (contiene un string)\n",
    "try:\n",
    "    u2 = utilidades([4, 5, 'seis', 7])\n",
    "except ValueError as e:\n",
    "    print(f\"Error: {e}\")"
   ]
  },
  {
   "attachments": {},
   "cell_type": "markdown",
   "metadata": {},
   "source": [
    "2) En la función que hace la conversión de grados, validar que los parámetros enviados sean los esperados, de no serlo, informar cuáles son los valores esperados."
   ]
  },
  {
   "cell_type": "code",
   "execution_count": 4,
   "metadata": {},
   "outputs": [
    {
     "name": "stdout",
     "output_type": "stream",
     "text": [
      "Error: Las unidades deben ser 'C', 'F' o 'K'.\n",
      "Error: Las unidades deben ser 'C', 'F' o 'K'.\n",
      "Error: El valor de la temperatura debe ser un número.\n",
      "100°C son 212.0°F\n"
     ]
    }
   ],
   "source": [
    "from utilidades import utilidades\n",
    "\n",
    "# Crear una instancia de la clase con una lista válida\n",
    "utilidades = utilidades([1, 2, 3, 4])\n",
    "\n",
    "# Prueba con unidad de origen incorrecta\n",
    "try:\n",
    "    print(utilidades.convertir_temperatura(100, 'X', 'F'))\n",
    "except ValueError as e:\n",
    "    print(f\"Error: {e}\")\n",
    "\n",
    "# Prueba con unidad de destino incorrecta\n",
    "try:\n",
    "    print(utilidades.convertir_temperatura(100, 'C', 'Z'))\n",
    "except ValueError as e:\n",
    "    print(f\"Error: {e}\")\n",
    "\n",
    "# Prueba con un valor no numérico\n",
    "try:\n",
    "    print(utilidades.convertir_temperatura(\"cien\", 'C', 'F'))\n",
    "except ValueError as e:\n",
    "    print(f\"Error: {e}\")\n",
    "\n",
    "# Prueba exitosa con valores válidos\n",
    "try:\n",
    "    resultado = utilidades.convertir_temperatura(100, 'C', 'F')\n",
    "    print(f\"100°C son {resultado}°F\")\n",
    "except ValueError as e:\n",
    "    print(f\"Error: {e}\")\n"
   ]
  },
  {
   "attachments": {},
   "cell_type": "markdown",
   "metadata": {},
   "source": [
    "3) Importar el modulo \"unittest\" y crear los siguientes casos de pruebas sobre la clase utilizada en el punto 2<br>\n",
    "Creacion del objeto incorrecta<br>\n",
    "Creacion correcta del objeto<br>\n",
    "Metodo valor_modal()<br>\n",
    "\n",
    "Se puede usar \"raise ValueError()\" en la creación de la clase para verificar el error. Investigar sobre esta funcionalidad."
   ]
  },
  {
   "cell_type": "code",
   "execution_count": 3,
   "metadata": {},
   "outputs": [
    {
     "name": "stderr",
     "output_type": "stream",
     "text": [
      "....\n",
      "----------------------------------------------------------------------\n",
      "Ran 4 tests in 0.006s\n",
      "\n",
      "OK\n"
     ]
    },
    {
     "data": {
      "text/plain": [
       "<unittest.main.TestProgram at 0x18c02319400>"
      ]
     },
     "execution_count": 3,
     "metadata": {},
     "output_type": "execute_result"
    }
   ],
   "source": [
    "import unittest\n",
    "from utilidades import utilidades\n",
    "\n",
    "class TestUtilidades(unittest.TestCase):\n",
    "    \n",
    "    def test_creacion_objeto_incorrecta(self):\n",
    "        # Prueba la creación incorrecta del objeto (lista con un tipo de dato no válido).\n",
    "        with self.assertRaises(ValueError) as context:\n",
    "            utilidades([1, 2, \"tres\", 4])  # Lista contiene un string\n",
    "        \n",
    "        self.assertEqual(str(context.exception), \"Todos los elementos de la lista deben ser números enteros.\")\n",
    "    \n",
    "    def test_creacion_objeto_correcta(self):\n",
    "        # Prueba la creación correcta del objeto.\n",
    "        try:\n",
    "            util = utilidades([1, 2, 3, 4])\n",
    "            self.assertIsInstance(util, utilidades)  # Verificar que el objeto se crea correctamente\n",
    "        except ValueError:\n",
    "            self.fail(\"No debería lanzarse una excepción para una lista válida.\")\n",
    "    \n",
    "    def test_valor_modal(self):\n",
    "        # Prueba el método valor_modal() sobre una lista.\n",
    "        util = utilidades([1, 2, 2, 3, 4, 4, 4, 5])\n",
    "        modal, repeticiones = util.valor_modal()\n",
    "        self.assertEqual(modal, 4)\n",
    "        self.assertEqual(repeticiones, 3)\n",
    "\n",
    "    def test_valor_modal_lista_vacia(self):\n",
    "        # Prueba el método valor_modal() con una lista vacía.\n",
    "        util = utilidades([])\n",
    "        with self.assertRaises(ValueError) as context:\n",
    "            util.valor_modal()\n",
    "        \n",
    "        self.assertEqual(str(context.exception), \"La lista no puede estar vacía.\")\n",
    "\n",
    "'''\n",
    "# Ejecutar los casos de prueba\n",
    "if __name__ == '__main__':\n",
    "    unittest.main()\n",
    "'''\n",
    "\n",
    "unittest.main(argv=[''], exit=False)"
   ]
  },
  {
   "attachments": {},
   "cell_type": "markdown",
   "metadata": {},
   "source": [
    "4) Probar una creación incorrecta y visualizar la salida del \"raise\""
   ]
  },
  {
   "cell_type": "code",
   "execution_count": 6,
   "metadata": {},
   "outputs": [
    {
     "ename": "ValueError",
     "evalue": "Debes proporcionar una lista.",
     "output_type": "error",
     "traceback": [
      "\u001b[1;31m---------------------------------------------------------------------------\u001b[0m",
      "\u001b[1;31mValueError\u001b[0m                                Traceback (most recent call last)",
      "Cell \u001b[1;32mIn[6], line 2\u001b[0m\n\u001b[0;32m      1\u001b[0m \u001b[38;5;28;01mimport\u001b[39;00m \u001b[38;5;21;01mutilidades\u001b[39;00m \u001b[38;5;28;01mas\u001b[39;00m \u001b[38;5;21;01mut\u001b[39;00m\n\u001b[1;32m----> 2\u001b[0m h2 \u001b[38;5;241m=\u001b[39m \u001b[43mut\u001b[49m\u001b[38;5;241;43m.\u001b[39;49m\u001b[43mutilidades\u001b[49m\u001b[43m(\u001b[49m\u001b[38;5;124;43m'\u001b[39;49m\u001b[38;5;124;43malgo\u001b[39;49m\u001b[38;5;124;43m'\u001b[39;49m\u001b[43m)\u001b[49m\n",
      "File \u001b[1;32mc:\\Users\\Renzo Barreto\\OneDrive\\Escritorio\\Python-Prep\\M09_errorhandling\\utilidades.py:6\u001b[0m, in \u001b[0;36m__init__\u001b[1;34m(self, lista_numeros)\u001b[0m\n\u001b[0;32m      1\u001b[0m # Archivo: utilidades.py\n\u001b[0;32m      3\u001b[0m class utilidades:\n\u001b[0;32m      5\u001b[0m     def __init__(self, lista_numeros):\n\u001b[1;32m----> 6\u001b[0m         # Inicializa la clase con una lista de números enteros.\n\u001b[0;32m      7\u001b[0m         if not isinstance(lista_numeros, list):\n\u001b[0;32m      8\u001b[0m             raise ValueError(\"Debes proporcionar una lista.\")\n",
      "\u001b[1;31mValueError\u001b[0m: Debes proporcionar una lista."
     ]
    }
   ],
   "source": [
    "import utilidades as ut\n",
    "h2 = ut.utilidades('algo')"
   ]
  },
  {
   "attachments": {},
   "cell_type": "markdown",
   "metadata": {},
   "source": [
    "6) Agregar casos de pruebas para el método verifica_primos() realizando el cambio en la clase, para que devuelva una lista de True o False en función de que el elemento en la posisicón sea o no primo"
   ]
  },
  {
   "cell_type": "code",
   "execution_count": 4,
   "metadata": {},
   "outputs": [
    {
     "name": "stderr",
     "output_type": "stream",
     "text": [
      "....E\n",
      "======================================================================\n",
      "ERROR: test_verifica_primos (__main__.TestUtilidades.test_verifica_primos)\n",
      "----------------------------------------------------------------------\n",
      "Traceback (most recent call last):\n",
      "  File \"C:\\Users\\Renzo Barreto\\AppData\\Local\\Temp\\ipykernel_8240\\4141333031.py\", line 39, in test_verifica_primos\n",
      "    resultado = util.obtener_primos()\n",
      "                ^^^^^^^^^^^^^^^^^^^\n",
      "AttributeError: 'utilidades' object has no attribute 'obtener_primos'\n",
      "\n",
      "----------------------------------------------------------------------\n",
      "Ran 5 tests in 0.012s\n",
      "\n",
      "FAILED (errors=1)\n"
     ]
    },
    {
     "data": {
      "text/plain": [
       "<unittest.main.TestProgram at 0x18c03d2adb0>"
      ]
     },
     "execution_count": 4,
     "metadata": {},
     "output_type": "execute_result"
    }
   ],
   "source": [
    "import unittest\n",
    "from utilidades import utilidades\n",
    "\n",
    "class TestUtilidades(unittest.TestCase):\n",
    "    \n",
    "    def test_creacion_objeto_incorrecta(self):\n",
    "        # Prueba la creación incorrecta del objeto (lista con un tipo de dato no válido).\n",
    "        with self.assertRaises(ValueError) as context:\n",
    "            utilidades([1, 2, \"tres\", 4])  # Lista contiene un string\n",
    "        \n",
    "        self.assertEqual(str(context.exception), \"Todos los elementos de la lista deben ser números enteros.\")\n",
    "    \n",
    "    def test_creacion_objeto_correcta(self):\n",
    "        # Prueba la creación correcta del objeto.\n",
    "        try:\n",
    "            util = utilidades([1, 2, 3, 4])\n",
    "            self.assertIsInstance(util, utilidades)  # Verificar que el objeto se crea correctamente\n",
    "        except ValueError:\n",
    "            self.fail(\"No debería lanzarse una excepción para una lista válida.\")\n",
    "    \n",
    "    def test_valor_modal(self):\n",
    "        # Prueba el método valor_modal() sobre una lista.\n",
    "        util = utilidades([1, 2, 2, 3, 4, 4, 4, 5])\n",
    "        modal, repeticiones = util.valor_modal()\n",
    "        self.assertEqual(modal, 4)\n",
    "        self.assertEqual(repeticiones, 3)\n",
    "\n",
    "    def test_valor_modal_lista_vacia(self):\n",
    "        # Prueba el método valor_modal() con una lista vacía.\n",
    "        util = utilidades([])\n",
    "        with self.assertRaises(ValueError) as context:\n",
    "            util.valor_modal()\n",
    "        \n",
    "        self.assertEqual(str(context.exception), \"La lista no puede estar vacía.\")\n",
    "\n",
    "    def test_verifica_primos(self):\n",
    "        # Prueba el método verifica_primos() sobre una lista.\n",
    "        util = utilidades([2, 3, 4, 5, 6])\n",
    "        resultado = util.obtener_primos()\n",
    "        self.assertEqual(resultado, [True, True, False, True, False])\n",
    "\n",
    "    def test_convertir_temperatura_correcta(self):\n",
    "        # Prueba convertir_temperatura() con valores válidos.\n",
    "        util = utilidades([1, 2, 3])\n",
    "        resultado = util.convertir_temperatura(100, 'C', 'F')\n",
    "        self.assertEqual(resultado, 212.0)\n",
    "    \n",
    "    def test_convertir_temperatura_incorrecta(self):\n",
    "        # Prueba convertir_temperatura() con unidades incorrectas.\n",
    "        util = utilidades([1, 2, 3])\n",
    "        with self.assertRaises(ValueError) as context:\n",
    "            util.convertir_temperatura(100, 'C', 'X')\n",
    "        self.assertEqual(str(context.exception), \"Unidad de destino 'X' no válida. Las unidades válidas son: 'C', 'F', 'K'.\")\n",
    "\n",
    "    def test_factorial_correcto(self):\n",
    "        # Prueba el método factorial() con un valor correcto.\n",
    "        util = utilidades([1, 2, 3])\n",
    "        resultado = util.factorial(5)\n",
    "        self.assertEqual(resultado, 120)\n",
    "\n",
    "    def test_factorial_numero_negativo(self):\n",
    "        # Prueba el método factorial() con un número negativo.\n",
    "        util = utilidades([1, 2, 3])\n",
    "        with self.assertRaises(ValueError) as context:\n",
    "            util.factorial(-5)\n",
    "        self.assertEqual(str(context.exception), \"El número no puede ser negativo.\")\n",
    "\n",
    "    def test_factorial_no_entero(self):\n",
    "        # Prueba el método factorial() con un valor no entero.\n",
    "        util = utilidades([1, 2, 3])\n",
    "        with self.assertRaises(ValueError) as context:\n",
    "            util.factorial(4.5)\n",
    "        self.assertEqual(str(context.exception), \"El número debe ser un entero.\")\n",
    "\n",
    "# Ejecutar y comprueba errores de los casos de prueba con extensiones 'nombreArchivo.py'\n",
    "'''\n",
    "if __name__ == '__main__':\n",
    "    unittest.main()\n",
    "    '''\n",
    "\n",
    "unittest.main(argv=[''], exit=False)"
   ]
  },
  {
   "attachments": {},
   "cell_type": "markdown",
   "metadata": {},
   "source": [
    "7) Agregar casos de pruebas para el método conversion_grados()"
   ]
  },
  {
   "cell_type": "code",
   "execution_count": 7,
   "metadata": {},
   "outputs": [
    {
     "name": "stderr",
     "output_type": "stream",
     "text": [
      ".F.......E\n",
      "======================================================================\n",
      "ERROR: test_verifica_primos (__main__.TestUtilidades.test_verifica_primos)\n",
      "----------------------------------------------------------------------\n",
      "Traceback (most recent call last):\n",
      "  File \"C:\\Users\\Renzo Barreto\\AppData\\Local\\Temp\\ipykernel_8240\\3838374480.py\", line 39, in test_verifica_primos\n",
      "    resultado = util.obtener_primos()\n",
      "                ^^^^^^^^^^^^^^^^^^^\n",
      "AttributeError: 'utilidades' object has no attribute 'obtener_primos'\n",
      "\n",
      "======================================================================\n",
      "FAIL: test_convertir_temperatura_incorrecta (__main__.TestUtilidades.test_convertir_temperatura_incorrecta)\n",
      "----------------------------------------------------------------------\n",
      "Traceback (most recent call last):\n",
      "  File \"C:\\Users\\Renzo Barreto\\AppData\\Local\\Temp\\ipykernel_8240\\3838374480.py\", line 53, in test_convertir_temperatura_incorrecta\n",
      "    self.assertEqual(str(context.exception), \"Unidad de destino 'X' no válida. Las unidades válidas son: 'C', 'F', 'K'.\")\n",
      "AssertionError: \"Unid[39 chars]es válidas son: 'C' (Celsius), 'F' (Fahrenheit), 'K' (Kelvin).\" != \"Unid[39 chars]es válidas son: 'C', 'F', 'K'.\"\n",
      "- Unidad de destino 'X' no válida. Las unidades válidas son: 'C' (Celsius), 'F' (Fahrenheit), 'K' (Kelvin).\n",
      "?                                                               ----------     -------------     ---------\n",
      "+ Unidad de destino 'X' no válida. Las unidades válidas son: 'C', 'F', 'K'.\n",
      "\n",
      "\n",
      "----------------------------------------------------------------------\n",
      "Ran 10 tests in 0.026s\n",
      "\n",
      "FAILED (failures=1, errors=1)\n"
     ]
    },
    {
     "data": {
      "text/plain": [
       "<unittest.main.TestProgram at 0x18c0467f560>"
      ]
     },
     "execution_count": 7,
     "metadata": {},
     "output_type": "execute_result"
    }
   ],
   "source": [
    "import unittest\n",
    "from utilidades import utilidades\n",
    "\n",
    "class TestUtilidades(unittest.TestCase):\n",
    "    \n",
    "    def test_creacion_objeto_incorrecta(self):\n",
    "        # Prueba la creación incorrecta del objeto (lista con un tipo de dato no válido).\n",
    "        with self.assertRaises(ValueError) as context:\n",
    "            utilidades([1, 2, \"tres\", 4])  # Lista contiene un string\n",
    "        \n",
    "        self.assertEqual(str(context.exception), \"Todos los elementos de la lista deben ser números enteros.\")\n",
    "    \n",
    "    def test_creacion_objeto_correcta(self):\n",
    "        # Prueba la creación correcta del objeto.\n",
    "        try:\n",
    "            util = utilidades([1, 2, 3, 4])\n",
    "            self.assertIsInstance(util, utilidades)  # Verificar que el objeto se crea correctamente\n",
    "        except ValueError:\n",
    "            self.fail(\"No debería lanzarse una excepción para una lista válida.\")\n",
    "    \n",
    "    def test_valor_modal(self):\n",
    "        # Prueba el método valor_modal() sobre una lista.\n",
    "        util = utilidades([1, 2, 2, 3, 4, 4, 4, 5])\n",
    "        modal, repeticiones = util.valor_modal()\n",
    "        self.assertEqual(modal, 4)\n",
    "        self.assertEqual(repeticiones, 3)\n",
    "\n",
    "    def test_valor_modal_lista_vacia(self):\n",
    "        # Prueba el método valor_modal() con una lista vacía.\n",
    "        util = utilidades([])\n",
    "        with self.assertRaises(ValueError) as context:\n",
    "            util.valor_modal()\n",
    "        \n",
    "        self.assertEqual(str(context.exception), \"La lista no puede estar vacía.\")\n",
    "\n",
    "    def test_verifica_primos(self):\n",
    "        # Prueba el método verifica_primos() sobre una lista.\n",
    "        util = utilidades([2, 3, 4, 5, 6])\n",
    "        resultado = util.obtener_primos()\n",
    "        self.assertEqual(resultado, [True, True, False, True, False])\n",
    "\n",
    "    def test_convertir_temperatura_correcta(self):\n",
    "        # Prueba convertir_temperatura() con valores válidos.\n",
    "        util = utilidades([1, 2, 3])\n",
    "        resultado = util.convertir_temperatura(100, 'C', 'F')\n",
    "        self.assertEqual(resultado, 212.0)\n",
    "    \n",
    "    def test_convertir_temperatura_incorrecta(self):\n",
    "        # Prueba convertir_temperatura() con unidades incorrectas.\n",
    "        util = utilidades([1, 2, 3])\n",
    "        with self.assertRaises(ValueError) as context:\n",
    "            util.convertir_temperatura(100, 'C', 'X')\n",
    "        self.assertEqual(str(context.exception), \"Unidad de destino 'X' no válida. Las unidades válidas son: 'C', 'F', 'K'.\")\n",
    "\n",
    "    def test_factorial_correcto(self):\n",
    "        # Prueba el método factorial() con un valor correcto.\n",
    "        util = utilidades([1, 2, 3])\n",
    "        resultado = util.factorial(5)\n",
    "        self.assertEqual(resultado, 120)\n",
    "\n",
    "    def test_factorial_numero_negativo(self):\n",
    "        # Prueba el método factorial() con un número negativo.\n",
    "        util = utilidades([1, 2, 3])\n",
    "        with self.assertRaises(ValueError) as context:\n",
    "            util.factorial(-5)\n",
    "        self.assertEqual(str(context.exception), \"El número no puede ser negativo.\")\n",
    "\n",
    "    def test_factorial_no_entero(self):\n",
    "        # Prueba el método factorial() con un valor no entero.\n",
    "        util = utilidades([1, 2, 3])\n",
    "        with self.assertRaises(ValueError) as context:\n",
    "            util.factorial(4.5)\n",
    "        self.assertEqual(str(context.exception), \"El número debe ser un entero.\")\n",
    "\n",
    "\n",
    "# Ejecutar y comprueba errores de los casos de prueba con extensiones 'nombreArchivo.py'\n",
    "'''\n",
    "if __name__ == '__main__':\n",
    "    unittest.main()\n",
    "    '''\n",
    "\n",
    "unittest.main(argv=[''], exit=False)"
   ]
  },
  {
   "attachments": {},
   "cell_type": "markdown",
   "metadata": {},
   "source": [
    "8) Agregar casos de pruebas para el método factorial()"
   ]
  },
  {
   "cell_type": "code",
   "execution_count": 8,
   "metadata": {},
   "outputs": [
    {
     "name": "stderr",
     "output_type": "stream",
     "text": [
      ".F.......E\n",
      "======================================================================\n",
      "ERROR: test_verifica_primos (__main__.TestUtilidades.test_verifica_primos)\n",
      "----------------------------------------------------------------------\n",
      "Traceback (most recent call last):\n",
      "  File \"C:\\Users\\Renzo Barreto\\AppData\\Local\\Temp\\ipykernel_8240\\728806845.py\", line 39, in test_verifica_primos\n",
      "    resultado = util.obtener_primos()\n",
      "                ^^^^^^^^^^^^^^^^^^^\n",
      "AttributeError: 'utilidades' object has no attribute 'obtener_primos'\n",
      "\n",
      "======================================================================\n",
      "FAIL: test_convertir_temperatura_incorrecta (__main__.TestUtilidades.test_convertir_temperatura_incorrecta)\n",
      "----------------------------------------------------------------------\n",
      "Traceback (most recent call last):\n",
      "  File \"C:\\Users\\Renzo Barreto\\AppData\\Local\\Temp\\ipykernel_8240\\728806845.py\", line 53, in test_convertir_temperatura_incorrecta\n",
      "    self.assertEqual(str(context.exception), \"Unidad de destino 'X' no válida. Las unidades válidas son: 'C', 'F', 'K'.\")\n",
      "AssertionError: \"Unid[39 chars]es válidas son: 'C' (Celsius), 'F' (Fahrenheit), 'K' (Kelvin).\" != \"Unid[39 chars]es válidas son: 'C', 'F', 'K'.\"\n",
      "- Unidad de destino 'X' no válida. Las unidades válidas son: 'C' (Celsius), 'F' (Fahrenheit), 'K' (Kelvin).\n",
      "?                                                               ----------     -------------     ---------\n",
      "+ Unidad de destino 'X' no válida. Las unidades válidas son: 'C', 'F', 'K'.\n",
      "\n",
      "\n",
      "----------------------------------------------------------------------\n",
      "Ran 10 tests in 0.016s\n",
      "\n",
      "FAILED (failures=1, errors=1)\n"
     ]
    },
    {
     "data": {
      "text/plain": [
       "<unittest.main.TestProgram at 0x18c03c77500>"
      ]
     },
     "execution_count": 8,
     "metadata": {},
     "output_type": "execute_result"
    }
   ],
   "source": [
    "import unittest\n",
    "from utilidades import utilidades\n",
    "\n",
    "class TestUtilidades(unittest.TestCase):\n",
    "    \n",
    "    def test_creacion_objeto_incorrecta(self):\n",
    "        # Prueba la creación incorrecta del objeto (lista con un tipo de dato no válido).\n",
    "        with self.assertRaises(ValueError) as context:\n",
    "            utilidades([1, 2, \"tres\", 4])  # Lista contiene un string\n",
    "        \n",
    "        self.assertEqual(str(context.exception), \"Todos los elementos de la lista deben ser números enteros.\")\n",
    "    \n",
    "    def test_creacion_objeto_correcta(self):\n",
    "        # Prueba la creación correcta del objeto.\n",
    "        try:\n",
    "            util = utilidades([1, 2, 3, 4])\n",
    "            self.assertIsInstance(util, utilidades)  # Verificar que el objeto se crea correctamente\n",
    "        except ValueError:\n",
    "            self.fail(\"No debería lanzarse una excepción para una lista válida.\")\n",
    "    \n",
    "    def test_valor_modal(self):\n",
    "        # Prueba el método valor_modal() sobre una lista.\n",
    "        util = utilidades([1, 2, 2, 3, 4, 4, 4, 5])\n",
    "        modal, repeticiones = util.valor_modal()\n",
    "        self.assertEqual(modal, 4)\n",
    "        self.assertEqual(repeticiones, 3)\n",
    "\n",
    "    def test_valor_modal_lista_vacia(self):\n",
    "        # Prueba el método valor_modal() con una lista vacía.\n",
    "        util = utilidades([])\n",
    "        with self.assertRaises(ValueError) as context:\n",
    "            util.valor_modal()\n",
    "        \n",
    "        self.assertEqual(str(context.exception), \"La lista no puede estar vacía.\")\n",
    "\n",
    "    def test_verifica_primos(self):\n",
    "        # Prueba el método verifica_primos() sobre una lista.\n",
    "        util = utilidades([2, 3, 4, 5, 6])\n",
    "        resultado = util.obtener_primos()\n",
    "        self.assertEqual(resultado, [True, True, False, True, False])\n",
    "\n",
    "    def test_convertir_temperatura_correcta(self):\n",
    "        # Prueba convertir_temperatura() con valores válidos.\n",
    "        util = utilidades([1, 2, 3])\n",
    "        resultado = util.convertir_temperatura(100, 'C', 'F')\n",
    "        self.assertEqual(resultado, 212.0)\n",
    "    \n",
    "    def test_convertir_temperatura_incorrecta(self):\n",
    "        # Prueba convertir_temperatura() con unidades incorrectas.\n",
    "        util = utilidades([1, 2, 3])\n",
    "        with self.assertRaises(ValueError) as context:\n",
    "            util.convertir_temperatura(100, 'C', 'X')\n",
    "        self.assertEqual(str(context.exception), \"Unidad de destino 'X' no válida. Las unidades válidas son: 'C', 'F', 'K'.\")\n",
    "\n",
    "    def test_factorial_correcto(self):\n",
    "        # Prueba el método factorial() con un valor correcto.\n",
    "        util = utilidades([1, 2, 3])\n",
    "        resultado = util.factorial(5)\n",
    "        self.assertEqual(resultado, 120)\n",
    "\n",
    "    def test_factorial_numero_negativo(self):\n",
    "        # Prueba el método factorial() con un número negativo.\n",
    "        util = utilidades([1, 2, 3])\n",
    "        with self.assertRaises(ValueError) as context:\n",
    "            util.factorial(-5)\n",
    "        self.assertEqual(str(context.exception), \"El número no puede ser negativo.\")\n",
    "\n",
    "    def test_factorial_no_entero(self):\n",
    "        # Prueba el método factorial() con un valor no entero.\n",
    "        util = utilidades([1, 2, 3])\n",
    "        with self.assertRaises(ValueError) as context:\n",
    "            util.factorial(4.5)\n",
    "        self.assertEqual(str(context.exception), \"El número debe ser un entero.\")\n",
    "\n",
    "# Ejecutar y comprueba errores de los casos de prueba con extensiones 'nombreArchivo.py'\n",
    "'''\n",
    "if __name__ == '__main__':\n",
    "    unittest.main()\n",
    "    '''\n",
    "\n",
    "unittest.main(argv=[''], exit=False)"
   ]
  }
 ],
 "metadata": {
  "interpreter": {
   "hash": "c85384e4cb51c8b72350f3a8712cc8351fdc3955e32a27f9b60c6242ab125f01"
  },
  "kernelspec": {
   "display_name": "Python 3 (ipykernel)",
   "language": "python",
   "name": "python3"
  },
  "language_info": {
   "codemirror_mode": {
    "name": "ipython",
    "version": 3
   },
   "file_extension": ".py",
   "mimetype": "text/x-python",
   "name": "python",
   "nbconvert_exporter": "python",
   "pygments_lexer": "ipython3",
   "version": "3.12.5"
  }
 },
 "nbformat": 4,
 "nbformat_minor": 4
}
