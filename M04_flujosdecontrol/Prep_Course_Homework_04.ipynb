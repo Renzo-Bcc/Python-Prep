{
 "cells": [
  {
   "attachments": {},
   "cell_type": "markdown",
   "metadata": {},
   "source": [
    "## Flujos de Control"
   ]
  },
  {
   "attachments": {},
   "cell_type": "markdown",
   "metadata": {},
   "source": [
    "1) Crear una variable que contenga un elemento del conjunto de números enteros y luego imprimir por pantalla si es mayor o menor a cero"
   ]
  },
  {
   "cell_type": "code",
   "execution_count": 1,
   "metadata": {},
   "outputs": [
    {
     "name": "stdout",
     "output_type": "stream",
     "text": [
      "Es mayor a cero\n",
      "Es igual a cero\n"
     ]
    }
   ],
   "source": [
    "x = 25\n",
    "if x > 0 :\n",
    "    print('Es mayor a cero')\n",
    "if x < 0:\n",
    "    print('Es menor a cero')\n",
    "else:\n",
    "    print('Es igual a cero')"
   ]
  },
  {
   "attachments": {},
   "cell_type": "markdown",
   "metadata": {},
   "source": [
    "2) Crear dos variables y un condicional que informe si son del mismo tipo de dato"
   ]
  },
  {
   "cell_type": "code",
   "execution_count": 2,
   "metadata": {},
   "outputs": [
    {
     "name": "stdout",
     "output_type": "stream",
     "text": [
      "Son diferentes tipos de datos\n"
     ]
    }
   ],
   "source": [
    "a ='3'\n",
    "b = 3\n",
    "if type(a) == type(b):\n",
    "    print('Son el mismo tipo de dato')\n",
    "else:\n",
    "    print('Son diferentes tipos de datos')"
   ]
  },
  {
   "attachments": {},
   "cell_type": "markdown",
   "metadata": {},
   "source": [
    "3) Para los valores enteros del 1 al 20, imprimir por pantalla si es par o impar"
   ]
  },
  {
   "cell_type": "code",
   "execution_count": 3,
   "metadata": {},
   "outputs": [
    {
     "name": "stdout",
     "output_type": "stream",
     "text": [
      "El numero 1 es impar\n",
      "El numero 1 es par\n",
      "El numero 3 es impar\n",
      "El numero 1 es par\n",
      "El numero 5 es impar\n",
      "El numero 1 es par\n",
      "El numero 7 es impar\n",
      "El numero 1 es par\n",
      "El numero 9 es impar\n",
      "El numero 1 es par\n",
      "El numero 11 es impar\n",
      "El numero 1 es par\n",
      "El numero 13 es impar\n",
      "El numero 1 es par\n",
      "El numero 15 es impar\n",
      "El numero 1 es par\n",
      "El numero 17 es impar\n",
      "El numero 1 es par\n",
      "El numero 19 es impar\n"
     ]
    }
   ],
   "source": [
    "# Usando For\n",
    "\n",
    "for i in range(1, 20):\n",
    "    if i % 2 == 0:\n",
    "        print(f'El numero {1} es par')\n",
    "    else:\n",
    "        print(f'El numero {i} es impar')"
   ]
  },
  {
   "cell_type": "code",
   "execution_count": 5,
   "metadata": {},
   "outputs": [
    {
     "name": "stdout",
     "output_type": "stream",
     "text": [
      "El numero 1 es impar\n",
      "El numero 2 es par\n",
      "El numero 3 es impar\n",
      "El numero 4 es par\n",
      "El numero 5 es impar\n",
      "El numero 6 es par\n",
      "El numero 7 es impar\n",
      "El numero 8 es par\n",
      "El numero 9 es impar\n",
      "El numero 10 es par\n",
      "El numero 11 es impar\n",
      "El numero 12 es par\n",
      "El numero 13 es impar\n",
      "El numero 14 es par\n",
      "El numero 15 es impar\n",
      "El numero 16 es par\n",
      "El numero 17 es impar\n",
      "El numero 18 es par\n",
      "El numero 19 es impar\n",
      "El numero 20 es par\n"
     ]
    }
   ],
   "source": [
    "# Usando While\n",
    "\n",
    "e = 1\n",
    "while e < 21:\n",
    "    if e % 2 == 0:\n",
    "        print(f'El numero {e} es par')\n",
    "    else:\n",
    "        print(f'El numero {e} es impar')\n",
    "    e += 1"
   ]
  },
  {
   "attachments": {},
   "cell_type": "markdown",
   "metadata": {},
   "source": [
    "4) En un ciclo for mostrar para los valores entre 0 y 5 el resultado de elevarlo a la potencia igual a 3"
   ]
  },
  {
   "cell_type": "code",
   "execution_count": 6,
   "metadata": {},
   "outputs": [
    {
     "name": "stdout",
     "output_type": "stream",
     "text": [
      "Cuando i vale 0 su potencia es: 0\n",
      "Cuando i vale 1 su potencia es: 1\n",
      "Cuando i vale 2 su potencia es: 8\n",
      "Cuando i vale 3 su potencia es: 27\n",
      "Cuando i vale 4 su potencia es: 64\n",
      "Cuando i vale 5 su potencia es: 125\n"
     ]
    }
   ],
   "source": [
    "for i in range(0, 6):\n",
    "    potencia = pow(i, 3)\n",
    "    print(f'Cuando i vale {i} su potencia es: {potencia}')"
   ]
  },
  {
   "attachments": {},
   "cell_type": "markdown",
   "metadata": {},
   "source": [
    "5) Crear una variable que contenga un número entero y realizar un ciclo for la misma cantidad de ciclos"
   ]
  },
  {
   "cell_type": "code",
   "execution_count": 7,
   "metadata": {},
   "outputs": [
    {
     "name": "stdout",
     "output_type": "stream",
     "text": [
      "9\n"
     ]
    }
   ],
   "source": [
    "y = 10\n",
    "for i in range(1, y):\n",
    "    pass\n",
    "\n",
    "print(i)"
   ]
  },
  {
   "attachments": {},
   "cell_type": "markdown",
   "metadata": {},
   "source": [
    "6) Utilizar un ciclo while para realizar el factorial de un número guardado en una variable, sólo si la variable contiene un número entero mayor a 0"
   ]
  },
  {
   "cell_type": "code",
   "execution_count": 9,
   "metadata": {},
   "outputs": [
    {
     "name": "stdout",
     "output_type": "stream",
     "text": [
      "El factorial de 5! es: 120\n"
     ]
    }
   ],
   "source": [
    "# Usando While\n",
    "\n",
    "n = 5\n",
    "if (type(n) == int):\n",
    "    if (n > 0):\n",
    "        factorial = n\n",
    "        while (n > 2):\n",
    "            n -= 1\n",
    "            factorial = factorial * n\n",
    "        \n",
    "        print(f'El factorial de 5! es: {factorial}')\n",
    "    else:\n",
    "        print('La variable es menor a cero')\n",
    "else:\n",
    "    print('La variable no es un entero')"
   ]
  },
  {
   "cell_type": "code",
   "execution_count": 10,
   "metadata": {},
   "outputs": [
    {
     "name": "stdout",
     "output_type": "stream",
     "text": [
      "El factorial de 5! es: 120\n"
     ]
    }
   ],
   "source": [
    "# Usando For\n",
    "\n",
    "y = 5\n",
    "if (type(y) == int):\n",
    "    if y > 0 :\n",
    "        factorial = 1\n",
    "        for i in range(2, (y + 1)):\n",
    "            factorial = i * factorial\n",
    "        print(f'El factorial de 5! es: {factorial}')\n",
    "    else:\n",
    "        print('La variable es menor a cero')\n",
    "else:\n",
    "    print('La variable no es entera')"
   ]
  },
  {
   "attachments": {},
   "cell_type": "markdown",
   "metadata": {},
   "source": [
    "7) Crear un ciclo for dentro de un ciclo while"
   ]
  },
  {
   "cell_type": "code",
   "execution_count": 11,
   "metadata": {},
   "outputs": [
    {
     "name": "stdout",
     "output_type": "stream",
     "text": [
      "Bucle For dentro de While N° 1\n",
      "Bucle While dentro de un For 1\n",
      "Bucle While dentro de un For 2\n",
      "Bucle While dentro de un For 3\n",
      "Bucle For dentro de While N° 2\n",
      "Bucle While dentro de un For 1\n",
      "Bucle While dentro de un For 2\n",
      "Bucle While dentro de un For 3\n",
      "Bucle For dentro de While N° 3\n",
      "Bucle While dentro de un For 1\n",
      "Bucle While dentro de un For 2\n",
      "Bucle While dentro de un For 3\n"
     ]
    }
   ],
   "source": [
    "c = 4\n",
    "for d in range(1, c):\n",
    "    print(f'Bucle For dentro de While N° {d}')\n",
    "    e = 1\n",
    "    while e < c:\n",
    "        print(f'Bucle While dentro de un For {e}')\n",
    "        e += 1"
   ]
  },
  {
   "attachments": {},
   "cell_type": "markdown",
   "metadata": {},
   "source": [
    "8) Crear un ciclo while dentro de un ciclo for"
   ]
  },
  {
   "cell_type": "code",
   "execution_count": 12,
   "metadata": {},
   "outputs": [
    {
     "name": "stdout",
     "output_type": "stream",
     "text": [
      "Bucle while dentro de un For N° 1\n",
      "Bucle for dentro de un While N° 1\n",
      "Bucle while dentro de un For N° 2\n",
      "Bucle for dentro de un While N° 1\n",
      "Bucle for dentro de un While N° 2\n",
      "Bucle while dentro de un For N° 3\n",
      "Bucle for dentro de un While N° 1\n",
      "Bucle for dentro de un While N° 2\n",
      "Bucle for dentro de un While N° 3\n",
      "Bucle while dentro de un For N° 4\n",
      "Bucle for dentro de un While N° 1\n",
      "Bucle for dentro de un While N° 2\n",
      "Bucle for dentro de un While N° 3\n",
      "Bucle for dentro de un While N° 4\n"
     ]
    }
   ],
   "source": [
    "n = 1\n",
    "while n < 5:\n",
    "    print(f'Bucle while dentro de un For N° {n}')\n",
    "    for i in range(1, (n + 1)):\n",
    "        print(f'Bucle for dentro de un While N° {i}')\n",
    "    n += 1"
   ]
  },
  {
   "attachments": {},
   "cell_type": "markdown",
   "metadata": {},
   "source": [
    "9) Imprimir los números primos existentes entre 0 y 30"
   ]
  },
  {
   "cell_type": "code",
   "execution_count": 13,
   "metadata": {},
   "outputs": [
    {
     "name": "stdout",
     "output_type": "stream",
     "text": [
      "2\n",
      "3\n",
      "5\n",
      "7\n",
      "11\n",
      "13\n",
      "17\n",
      "19\n",
      "23\n",
      "29\n"
     ]
    }
   ],
   "source": [
    "for num in range(1, 31):\n",
    "    if num >= 2:\n",
    "        div = False\n",
    "        for indice in range (2, num):\n",
    "            if num % indice == 0:\n",
    "                div = True\n",
    "                # break\n",
    "        if not div:\n",
    "            print(num)"
   ]
  },
  {
   "attachments": {},
   "cell_type": "markdown",
   "metadata": {},
   "source": [
    "10) ¿Se puede mejorar el proceso del punto 9? Utilizar las sentencias break y/ó continue para tal fin"
   ]
  },
  {
   "cell_type": "code",
   "execution_count": 14,
   "metadata": {},
   "outputs": [
    {
     "name": "stdout",
     "output_type": "stream",
     "text": [
      "2\n",
      "3\n",
      "5\n",
      "7\n",
      "11\n",
      "13\n",
      "17\n",
      "19\n",
      "23\n",
      "29\n"
     ]
    }
   ],
   "source": [
    "def es_primo():\n",
    "    for numero in range(1, 31):\n",
    "        if numero >= 2:\n",
    "            es_divisible = False\n",
    "            for indice in range(2, numero):\n",
    "                if numero % indice == 0:\n",
    "                    es_divisible = True\n",
    "                    break\n",
    "            if not es_divisible:\n",
    "                print(numero)\n",
    "                \n",
    "es_primo()"
   ]
  },
  {
   "attachments": {},
   "cell_type": "markdown",
   "metadata": {},
   "source": [
    "11) En los puntos 9 y 10, se diseño un código que encuentra números primos y además se lo optimizó. ¿Es posible saber en qué medida se optimizó?"
   ]
  },
  {
   "cell_type": "code",
   "execution_count": 15,
   "metadata": {},
   "outputs": [
    {
     "name": "stdout",
     "output_type": "stream",
     "text": [
      "2\n",
      "3\n",
      "5\n",
      "7\n",
      "11\n",
      "13\n",
      "17\n",
      "19\n",
      "23\n",
      "29\n"
     ]
    }
   ],
   "source": [
    "# 9. Usando el bucle for inicializamos nuestra variable en 1 pero menor a 31\n",
    "for num in range(1, 31):\n",
    "    # Evaluaremos los números primos desde el número 2 en adelante\n",
    "    if num >= 2:\n",
    "        # La variable div nos dira que números no son divisibles\n",
    "        div = False\n",
    "        # En este bucle se confirma cuales son las diferentes combinaciones de números que generan un resto igual cero\n",
    "        for indice in range (2, num):\n",
    "            # 2 % 2 == 0 y asi con todas las posibles combinaciones\n",
    "            if num % indice == 0:\n",
    "                # Ahora si es divisible\n",
    "                div = True\n",
    "                # Salimos del bucle\n",
    "                break\n",
    "        # Los números primos no deben generar un resto igual a cero\n",
    "        if not div:\n",
    "            # Imprime el numero primo\n",
    "            print(num)\n",
    "# Hice el ejercicio 10 igual solo que lo puse dentro de una función"
   ]
  },
  {
   "attachments": {},
   "cell_type": "markdown",
   "metadata": {},
   "source": [
    "12) Aplicando continue, armar un ciclo while que solo imprima los valores divisibles por 12, dentro del rango de números de 100 a 300"
   ]
  },
  {
   "cell_type": "code",
   "execution_count": 16,
   "metadata": {},
   "outputs": [
    {
     "name": "stdout",
     "output_type": "stream",
     "text": [
      "108\n",
      "120\n",
      "132\n",
      "144\n",
      "156\n",
      "168\n",
      "180\n",
      "192\n",
      "204\n",
      "216\n",
      "228\n",
      "240\n",
      "252\n",
      "264\n",
      "276\n",
      "288\n"
     ]
    }
   ],
   "source": [
    "for numero in range (100, 300):\n",
    "    if (numero % 12 == 0) == True:\n",
    "        print(numero)"
   ]
  },
  {
   "attachments": {},
   "cell_type": "markdown",
   "metadata": {},
   "source": [
    "13) Utilizar la función **input()** que permite hacer ingresos por teclado, para encontrar números primos y dar la opción al usario de buscar el siguiente"
   ]
  },
  {
   "cell_type": "code",
   "execution_count": 17,
   "metadata": {},
   "outputs": [
    {
     "name": "stdout",
     "output_type": "stream",
     "text": [
      "2\n",
      "¿Desea buscar el siguiente numero primo?\n",
      "3\n",
      "¿Desea buscar el siguiente numero primo?\n",
      "5\n",
      "¿Desea buscar el siguiente numero primo?\n",
      "7\n",
      "¿Desea buscar el siguiente numero primo?\n",
      "11\n",
      "¿Desea buscar el siguiente numero primo?\n",
      "13\n",
      "¿Desea buscar el siguiente numero primo?\n",
      "17\n",
      "¿Desea buscar el siguiente numero primo?\n",
      "Hasta pronto. Finalizamos la busqueda\n"
     ]
    }
   ],
   "source": [
    "for num in range(1, 100):\n",
    "    if num >= 2:\n",
    "        div = False\n",
    "        for indice in range (2, num):\n",
    "            if num % indice == 0:\n",
    "                div = True\n",
    "                # break\n",
    "        if not div:\n",
    "            print(num)\n",
    "            print('¿Desea buscar el siguiente numero primo?')\n",
    "            if (input() != 'si'):\n",
    "                print('Hasta pronto. Finalizamos la busqueda')\n",
    "                break"
   ]
  },
  {
   "attachments": {},
   "cell_type": "markdown",
   "metadata": {},
   "source": [
    "14) Crear un ciclo while que encuentre dentro del rango de 100 a 300 el primer número divisible por 3 y además múltiplo de 6"
   ]
  },
  {
   "cell_type": "code",
   "execution_count": 18,
   "metadata": {},
   "outputs": [
    {
     "name": "stdout",
     "output_type": "stream",
     "text": [
      "El número es: 102\n"
     ]
    }
   ],
   "source": [
    "b = 100\n",
    "while(b<=300):\n",
    "    if (b % 6 == 0):\n",
    "        print(f'El número es: {b}')\n",
    "        break\n",
    "    b += 1"
   ]
  }
 ],
 "metadata": {
  "interpreter": {
   "hash": "c85384e4cb51c8b72350f3a8712cc8351fdc3955e32a27f9b60c6242ab125f01"
  },
  "kernelspec": {
   "display_name": "Python 3 (ipykernel)",
   "language": "python",
   "name": "python3"
  },
  "language_info": {
   "codemirror_mode": {
    "name": "ipython",
    "version": 3
   },
   "file_extension": ".py",
   "mimetype": "text/x-python",
   "name": "python",
   "nbconvert_exporter": "python",
   "pygments_lexer": "ipython3",
   "version": "3.12.5"
  }
 },
 "nbformat": 4,
 "nbformat_minor": 4
}
