{
 "cells": [
  {
   "attachments": {},
   "cell_type": "markdown",
   "metadata": {},
   "source": [
    "## Funciones"
   ]
  },
  {
   "attachments": {},
   "cell_type": "markdown",
   "metadata": {},
   "source": [
    "1) Crear una función que reciba un número como parámetro y devuelva True si es primo y False si no lo es"
   ]
  },
  {
   "cell_type": "code",
   "execution_count": 1,
   "metadata": {},
   "outputs": [
    {
     "name": "stdout",
     "output_type": "stream",
     "text": [
      "False\n",
      "True\n"
     ]
    }
   ],
   "source": [
    "def primo(numero):\n",
    "    if numero < 2:\n",
    "        return False\n",
    "    for i in range(2, int(numero**0.5)+1):\n",
    "        if numero % i == 0:\n",
    "            return False\n",
    "        else:\n",
    "            return True\n",
    "\n",
    "print(primo(6))\n",
    "print(primo(7))"
   ]
  },
  {
   "attachments": {},
   "cell_type": "markdown",
   "metadata": {},
   "source": [
    "2) Utilizando la función del punto 1, realizar otra función que reciba de parámetro una lista de números y devuelva sólo aquellos que son primos en otra lista"
   ]
  },
  {
   "cell_type": "code",
   "execution_count": 2,
   "metadata": {},
   "outputs": [
    {
     "name": "stdout",
     "output_type": "stream",
     "text": [
      "[11, 13, 17, 19]\n"
     ]
    }
   ],
   "source": [
    "def es_primo(numero):\n",
    "    # Función que verifica si un número es primo.\n",
    "    if numero < 2:\n",
    "        return False\n",
    "    for i in range(2, int(numero**0.5) + 1):\n",
    "        if numero % i == 0:\n",
    "            return False\n",
    "    return True\n",
    "\n",
    "def filtrar_primos(lista):\n",
    "    # Función que filtra y devuelve una lista de números primos.\n",
    "    return [numero for numero in lista if es_primo(numero)]\n",
    "\n",
    "# Ejemplo de uso\n",
    "numeros = [10, 11, 12, 13, 14, 15, 16, 17, 18, 19, 20]\n",
    "primos = filtrar_primos(numeros)\n",
    "\n",
    "# Imprimir la lista de números primos\n",
    "print(primos)"
   ]
  },
  {
   "attachments": {},
   "cell_type": "markdown",
   "metadata": {},
   "source": [
    "3) Crear una función que al recibir una lista de números, devuelva el que más se repite y cuántas veces lo hace. Si hay más de un \"más repetido\", que devuelva cualquiera"
   ]
  },
  {
   "cell_type": "code",
   "execution_count": 3,
   "metadata": {},
   "outputs": [
    {
     "name": "stdout",
     "output_type": "stream",
     "text": [
      "El número que más se repite es 4 y se repite 4 veces.\n"
     ]
    }
   ],
   "source": [
    "def numero_mas_repetido(lista):\n",
    "    # Función que devuelve el número que más se repite y cuántas veces lo hace.\n",
    "    # Crear un diccionario para contar las ocurrencias\n",
    "    contador = {}\n",
    "    \n",
    "    for numero in lista:\n",
    "        if numero in contador:\n",
    "            contador[numero] += 1\n",
    "        else:\n",
    "            contador[numero] = 1\n",
    "    \n",
    "    # Encontrar el número con más repeticiones\n",
    "    max_numero = max(contador, key = contador.get)\n",
    "    max_repeticiones = contador[max_numero]\n",
    "    \n",
    "    return max_numero, max_repeticiones\n",
    "\n",
    "# Ejemplo de uso\n",
    "numeros = [4, 1, 2, 2, 3, 4, 4, 5, 6, 4, 3, 2, 2]\n",
    "numero, repeticiones = numero_mas_repetido(numeros)\n",
    "\n",
    "# Imprimir el número que más se repite y cuántas veces lo hace\n",
    "print(f\"El número que más se repite es {numero} y se repite {repeticiones} veces.\")"
   ]
  },
  {
   "attachments": {},
   "cell_type": "markdown",
   "metadata": {},
   "source": [
    "4) Crear una función que convierta entre grados Celsius, Farenheit y Kelvin<br>\n",
    "Fórmula 1\t: (°C × 9/5) + 32 = °F<br>\n",
    "Fórmula 2\t: °C + 273.15 = °K<br>\n",
    "Debe recibir 3 parámetros: el valor, la medida de orígen y la medida de destino\n"
   ]
  },
  {
   "cell_type": "code",
   "execution_count": 4,
   "metadata": {},
   "outputs": [
    {
     "name": "stdout",
     "output_type": "stream",
     "text": [
      "100°C son 212.0°F\n",
      "32°F son 0.0°C\n",
      "300K son 26.850000000000023°C\n",
      "25°C son 298.15K\n"
     ]
    }
   ],
   "source": [
    "def convertir_temperatura(valor, origen, destino):\n",
    "    # Convierte una temperatura de una unidad a otra.\n",
    "    \n",
    "    # Primero convertimos el valor de origen a grados Celsius\n",
    "    if origen == 'C':\n",
    "        celsius = valor\n",
    "    elif origen == 'F':\n",
    "        celsius = (valor - 32) * 5/9\n",
    "    elif origen == 'K':\n",
    "        celsius = valor - 273.15\n",
    "    else:\n",
    "        raise ValueError(\"Unidad de origen no válida. Usa 'C', 'F' o 'K'.\")\n",
    "    \n",
    "    # Luego convertimos de Celsius a la unidad de destino\n",
    "    if destino == 'C':\n",
    "        return celsius\n",
    "    elif destino == 'F':\n",
    "        return (celsius * 9/5) + 32\n",
    "    elif destino == 'K':\n",
    "        return celsius + 273.15\n",
    "    else:\n",
    "        raise ValueError(\"Unidad de destino no válida. Usa 'C', 'F' o 'K'.\")\n",
    "\n",
    "# Ejemplos de uso\n",
    "temperatura1 = convertir_temperatura(100, 'C', 'F')  # De Celsius a Fahrenheit\n",
    "temperatura2 = convertir_temperatura(32, 'F', 'C')   # De Fahrenheit a Celsius\n",
    "temperatura3 = convertir_temperatura(300, 'K', 'C')  # De Kelvin a Celsius\n",
    "temperatura4 = convertir_temperatura(25, 'C', 'K')   # De Celsius a Kelvin\n",
    "\n",
    "# Imprimir los resultados\n",
    "print(f\"100°C son {temperatura1}°F\")\n",
    "print(f\"32°F son {temperatura2}°C\")\n",
    "print(f\"300K son {temperatura3}°C\")\n",
    "print(f\"25°C son {temperatura4}K\")"
   ]
  },
  {
   "attachments": {},
   "cell_type": "markdown",
   "metadata": {},
   "source": [
    "5) Iterando una lista con los tres valores posibles de temperatura que recibe la función del punto 5, hacer un print para cada combinación de los mismos:"
   ]
  },
  {
   "cell_type": "code",
   "execution_count": 5,
   "metadata": {},
   "outputs": [
    {
     "name": "stdout",
     "output_type": "stream",
     "text": [
      "100°C son 212.00°F\n",
      "100°C son 373.15°K\n",
      "100°F son 37.78°C\n",
      "100°F son 310.93°K\n",
      "100°K son -173.15°C\n",
      "100°K son -279.67°F\n"
     ]
    }
   ],
   "source": [
    "def convertir_temperatura(valor, origen, destino):\n",
    "    # Convierte una temperatura de una unidad a otra.\n",
    "    \n",
    "    # Convertir el valor de origen a grados Celsius\n",
    "    if origen == 'C':\n",
    "        celsius = valor\n",
    "    elif origen == 'F':\n",
    "        celsius = (valor - 32) * 5/9\n",
    "    elif origen == 'K':\n",
    "        celsius = valor - 273.15\n",
    "    else:\n",
    "        raise ValueError(\"Unidad de origen no válida. Usa 'C', 'F' o 'K'.\")\n",
    "    \n",
    "    # Convertir de Celsius a la unidad de destino\n",
    "    if destino == 'C':\n",
    "        return celsius\n",
    "    elif destino == 'F':\n",
    "        return (celsius * 9/5) + 32\n",
    "    elif destino == 'K':\n",
    "        return celsius + 273.15\n",
    "    else:\n",
    "        raise ValueError(\"Unidad de destino no válida. Usa 'C', 'F' o 'K'.\")\n",
    "\n",
    "# Lista con los tres valores posibles de unidades de temperatura\n",
    "unidades = ['C', 'F', 'K']\n",
    "\n",
    "# Valor de temperatura de ejemplo\n",
    "valor_temperatura = 100\n",
    "\n",
    "# Iterar sobre cada combinación posible de unidades de origen y destino\n",
    "for origen in unidades:\n",
    "    for destino in unidades:\n",
    "        if origen != destino:  # Evitar convertir a la misma unidad\n",
    "            resultado = convertir_temperatura(valor_temperatura, origen, destino)\n",
    "            print(f\"{valor_temperatura}°{origen} son {resultado:.2f}°{destino}\")"
   ]
  },
  {
   "attachments": {},
   "cell_type": "markdown",
   "metadata": {},
   "source": [
    "6) Armar una función que devuelva el factorial de un número. Tener en cuenta que el usuario puede equivocarse y enviar de parámetro un número no entero o negativo"
   ]
  },
  {
   "cell_type": "code",
   "execution_count": 6,
   "metadata": {},
   "outputs": [
    {
     "name": "stdout",
     "output_type": "stream",
     "text": [
      "120\n",
      "1\n",
      "3628800\n",
      "El número no puede ser negativo.\n",
      "El número debe ser un entero.\n"
     ]
    }
   ],
   "source": [
    "def factorial(n):\n",
    "    # Calcula el factorial de un número, manejando errores si el número es no entero o negativo.\n",
    "    # Verificar si el número es un entero\n",
    "    if not isinstance(n, int):\n",
    "        raise ValueError(\"El número debe ser un entero.\")\n",
    "    \n",
    "    # Verificar si el número es negativo\n",
    "    if n < 0:\n",
    "        raise ValueError(\"El número no puede ser negativo.\")\n",
    "    \n",
    "    # Calcular el factorial\n",
    "    resultado = 1\n",
    "    for i in range(2, n + 1):\n",
    "        resultado *= i\n",
    "    \n",
    "    return resultado\n",
    "\n",
    "# Ejemplos de uso\n",
    "try:\n",
    "    print(factorial(5))   # 120\n",
    "    print(factorial(0))   # 1\n",
    "    print(factorial(10))  # 3628800\n",
    "    print(factorial(-3))  # Esto generará un ValueError\n",
    "except ValueError as e:\n",
    "    print(e)\n",
    "\n",
    "try:\n",
    "    print(factorial(4.5)) # Esto generará un ValueError\n",
    "except ValueError as e:\n",
    "    print(e)\n"
   ]
  }
 ],
 "metadata": {
  "interpreter": {
   "hash": "c85384e4cb51c8b72350f3a8712cc8351fdc3955e32a27f9b60c6242ab125f01"
  },
  "kernelspec": {
   "display_name": "Python 3 (ipykernel)",
   "language": "python",
   "name": "python3"
  },
  "language_info": {
   "codemirror_mode": {
    "name": "ipython",
    "version": 3
   },
   "file_extension": ".py",
   "mimetype": "text/x-python",
   "name": "python",
   "nbconvert_exporter": "python",
   "pygments_lexer": "ipython3",
   "version": "3.12.5"
  }
 },
 "nbformat": 4,
 "nbformat_minor": 4
}
